{
 "cells": [
  {
   "cell_type": "code",
   "execution_count": 6,
   "id": "18a77d39",
   "metadata": {
    "scrolled": false
   },
   "outputs": [
    {
     "name": "stdout",
     "output_type": "stream",
     "text": [
      "안녕\n",
      "Hello 389475934\n"
     ]
    }
   ],
   "source": [
    "print('안녕')\n",
    "print('Hello',389475934)"
   ]
  },
  {
   "cell_type": "code",
   "execution_count": 10,
   "id": "e3cf6133",
   "metadata": {},
   "outputs": [
    {
     "name": "stdout",
     "output_type": "stream",
     "text": [
      "안녕안녕안녕안녕\n"
     ]
    }
   ],
   "source": [
    "print('안녕'*4)"
   ]
  },
  {
   "cell_type": "code",
   "execution_count": 14,
   "id": "11b50d0c",
   "metadata": {},
   "outputs": [
    {
     "name": "stdout",
     "output_type": "stream",
     "text": [
      "영어점수 80\n"
     ]
    }
   ],
   "source": [
    "eng = 80\n",
    "result = '영어점수 ' + str(eng)\n",
    "print(result)"
   ]
  },
  {
   "cell_type": "code",
   "execution_count": 21,
   "id": "4f29eb27",
   "metadata": {},
   "outputs": [
    {
     "name": "stdout",
     "output_type": "stream",
     "text": [
      "gegeg\n"
     ]
    },
    {
     "data": {
      "text/plain": [
       "'gegeg'"
      ]
     },
     "execution_count": 21,
     "metadata": {},
     "output_type": "execute_result"
    }
   ],
   "source": [
    "input()"
   ]
  },
  {
   "cell_type": "code",
   "execution_count": 24,
   "id": "8457ecaa",
   "metadata": {},
   "outputs": [
    {
     "name": "stdout",
     "output_type": "stream",
     "text": [
      "입력: 가나다\n",
      "가나다\n"
     ]
    }
   ],
   "source": [
    "ss = input('입력: ')\n",
    "print(ss)"
   ]
  },
  {
   "cell_type": "code",
   "execution_count": 25,
   "id": "0b566e88",
   "metadata": {},
   "outputs": [
    {
     "data": {
      "text/plain": [
       "90"
      ]
     },
     "execution_count": 25,
     "metadata": {},
     "output_type": "execute_result"
    }
   ],
   "source": [
    "45+45"
   ]
  },
  {
   "cell_type": "code",
   "execution_count": 48,
   "id": "2e8741b2",
   "metadata": {},
   "outputs": [
    {
     "name": "stdout",
     "output_type": "stream",
     "text": [
      "나이: 12\n",
      "안됩니다\n"
     ]
    }
   ],
   "source": [
    "age = int(input(\"나이: \"))\n",
    "if age > 19:\n",
    "    print(\"성인입니다\")\n",
    "    print(\"a\")\n",
    "elif age >15:\n",
    "    print(\"부모님 동반 가능입니다\")\n",
    "    print(\"b\")\n",
    "else:\n",
    "    print(\"안됩니다\")\n"
   ]
  },
  {
   "cell_type": "code",
   "execution_count": null,
   "id": "b4a07926",
   "metadata": {},
   "outputs": [],
   "source": []
  },
  {
   "cell_type": "code",
   "execution_count": null,
   "id": "153edb66",
   "metadata": {},
   "outputs": [],
   "source": []
  }
 ],
 "metadata": {
  "kernelspec": {
   "display_name": "Python 3 (ipykernel)",
   "language": "python",
   "name": "python3"
  },
  "language_info": {
   "codemirror_mode": {
    "name": "ipython",
    "version": 3
   },
   "file_extension": ".py",
   "mimetype": "text/x-python",
   "name": "python",
   "nbconvert_exporter": "python",
   "pygments_lexer": "ipython3",
   "version": "3.11.5"
  }
 },
 "nbformat": 4,
 "nbformat_minor": 5
}
